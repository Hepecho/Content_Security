{
 "cells": [
  {
   "cell_type": "markdown",
   "source": [
    "# 实例1 word2vec的基本使用"
   ],
   "metadata": {
    "collapsed": false
   }
  },
  {
   "cell_type": "markdown",
   "source": [
    "## 1.语料加工"
   ],
   "metadata": {
    "collapsed": false
   }
  },
  {
   "cell_type": "code",
   "execution_count": 7,
   "outputs": [
    {
     "name": "stderr",
     "output_type": "stream",
     "text": [
      "Building prefix dict from the default dictionary ...\n",
      "Dumping model to file cache C:\\Users\\echoe\\AppData\\Local\\Temp\\jieba.cache\n",
      "Loading model cost 0.506 seconds.\n",
      "Prefix dict has been built successfully.\n"
     ]
    }
   ],
   "source": [
    "import os\n",
    "import jieba\n",
    "\n",
    "root_path = './data/家居'\n",
    "file_list = os.listdir(root_path)\n",
    "all_word_list = []\n",
    "for name in file_list:\n",
    "    file_path = root_path + \"/\" + name\n",
    "    with open(file_path, \"r\", encoding=\"utf-8\") as f:\n",
    "        txt = f.read()\n",
    "        word_list = jieba.lcut(txt, cut_all=False)  # 精确模式\n",
    "        all_word_list.extend(word_list)\n",
    "result = \" \".join(all_word_list)\n",
    "with open(\"result.txt\", \"w\", encoding=\"utf-8\") as f:\n",
    "    f.write(result)"
   ],
   "metadata": {
    "collapsed": false
   }
  },
  {
   "cell_type": "markdown",
   "source": [
    "## 2.打开命令控制符，导入word2vec"
   ],
   "metadata": {
    "collapsed": false
   }
  },
  {
   "cell_type": "code",
   "execution_count": 8,
   "outputs": [
    {
     "name": "stderr",
     "output_type": "stream",
     "text": [
      "2023-03-20 14:51:15,602 : INFO : collecting all words and their counts\n",
      "2023-03-20 14:51:15,602 : INFO : PROGRESS: at sentence #0, processed 0 words, keeping 0 word types\n",
      "2023-03-20 14:51:15,618 : INFO : collected 16130 word types from a corpus of 133694 raw words and 14 sentences\n",
      "2023-03-20 14:51:15,618 : INFO : Creating a fresh vocabulary\n",
      "2023-03-20 14:51:15,649 : INFO : Word2Vec lifecycle event {'msg': 'effective_min_count=1 retains 16130 unique words (100.00% of original 16130, drops 0)', 'datetime': '2023-03-20T14:51:15.649922', 'gensim': '4.3.0', 'python': '3.8.16 (default, Mar  2 2023, 03:18:16) [MSC v.1916 64 bit (AMD64)]', 'platform': 'Windows-10-10.0.22621-SP0', 'event': 'prepare_vocab'}\n",
      "2023-03-20 14:51:15,665 : INFO : Word2Vec lifecycle event {'msg': 'effective_min_count=1 leaves 133694 word corpus (100.00% of original 133694, drops 0)', 'datetime': '2023-03-20T14:51:15.665581', 'gensim': '4.3.0', 'python': '3.8.16 (default, Mar  2 2023, 03:18:16) [MSC v.1916 64 bit (AMD64)]', 'platform': 'Windows-10-10.0.22621-SP0', 'event': 'prepare_vocab'}\n",
      "2023-03-20 14:51:15,714 : INFO : deleting the raw counts dictionary of 16130 items\n",
      "2023-03-20 14:51:15,714 : INFO : sample=0.001 downsamples 27 most-common words\n",
      "2023-03-20 14:51:15,714 : INFO : Word2Vec lifecycle event {'msg': 'downsampling leaves estimated 110282.47811260089 word corpus (82.5%% of prior 133694)', 'datetime': '2023-03-20T14:51:15.714130', 'gensim': '4.3.0', 'python': '3.8.16 (default, Mar  2 2023, 03:18:16) [MSC v.1916 64 bit (AMD64)]', 'platform': 'Windows-10-10.0.22621-SP0', 'event': 'prepare_vocab'}\n",
      "2023-03-20 14:51:15,784 : INFO : estimated required memory for 16130 words and 200 dimensions: 33873000 bytes\n",
      "2023-03-20 14:51:15,784 : INFO : resetting layer weights\n",
      "2023-03-20 14:51:15,794 : INFO : Word2Vec lifecycle event {'update': False, 'trim_rule': 'None', 'datetime': '2023-03-20T14:51:15.794493', 'gensim': '4.3.0', 'python': '3.8.16 (default, Mar  2 2023, 03:18:16) [MSC v.1916 64 bit (AMD64)]', 'platform': 'Windows-10-10.0.22621-SP0', 'event': 'build_vocab'}\n",
      "2023-03-20 14:51:15,794 : INFO : Word2Vec lifecycle event {'msg': 'training model with 3 workers on 16130 vocabulary and 200 features, using sg=0 hs=0 sample=0.001 negative=5 window=5 shrink_windows=True', 'datetime': '2023-03-20T14:51:15.794493', 'gensim': '4.3.0', 'python': '3.8.16 (default, Mar  2 2023, 03:18:16) [MSC v.1916 64 bit (AMD64)]', 'platform': 'Windows-10-10.0.22621-SP0', 'event': 'train'}\n",
      "2023-03-20 14:51:15,857 : INFO : EPOCH 0: training on 133694 raw words (110177 effective words) took 0.1s, 1673362 effective words/s\n",
      "2023-03-20 14:51:15,920 : INFO : EPOCH 1: training on 133694 raw words (110345 effective words) took 0.1s, 1807900 effective words/s\n",
      "2023-03-20 14:51:15,985 : INFO : EPOCH 2: training on 133694 raw words (110346 effective words) took 0.1s, 1733574 effective words/s\n",
      "2023-03-20 14:51:16,046 : INFO : EPOCH 3: training on 133694 raw words (110325 effective words) took 0.1s, 1873869 effective words/s\n",
      "2023-03-20 14:51:16,109 : INFO : EPOCH 4: training on 133694 raw words (110353 effective words) took 0.1s, 1914505 effective words/s\n",
      "2023-03-20 14:51:16,109 : INFO : Word2Vec lifecycle event {'msg': 'training on 668470 raw words (551546 effective words) took 0.3s, 1739873 effective words/s', 'datetime': '2023-03-20T14:51:16.109815', 'gensim': '4.3.0', 'python': '3.8.16 (default, Mar  2 2023, 03:18:16) [MSC v.1916 64 bit (AMD64)]', 'platform': 'Windows-10-10.0.22621-SP0', 'event': 'train'}\n",
      "2023-03-20 14:51:16,109 : INFO : Word2Vec lifecycle event {'params': 'Word2Vec<vocab=16130, vector_size=200, alpha=0.025>', 'datetime': '2023-03-20T14:51:16.109815', 'gensim': '4.3.0', 'python': '3.8.16 (default, Mar  2 2023, 03:18:16) [MSC v.1916 64 bit (AMD64)]', 'platform': 'Windows-10-10.0.22621-SP0', 'event': 'created'}\n",
      "2023-03-20 14:51:16,109 : INFO : Word2Vec lifecycle event {'fname_or_handle': 'my_model.model', 'separately': 'None', 'sep_limit': 10485760, 'ignore': frozenset(), 'datetime': '2023-03-20T14:51:16.109815', 'gensim': '4.3.0', 'python': '3.8.16 (default, Mar  2 2023, 03:18:16) [MSC v.1916 64 bit (AMD64)]', 'platform': 'Windows-10-10.0.22621-SP0', 'event': 'saving'}\n",
      "2023-03-20 14:51:16,109 : INFO : not storing attribute cum_table\n",
      "2023-03-20 14:51:16,129 : INFO : saved my_model.model\n"
     ]
    }
   ],
   "source": [
    "from gensim.models import word2vec\n",
    "import logging\n",
    "\n",
    "logging.basicConfig(format='%(asctime)s : %(levelname)s : %(message)s', level=logging.INFO)\n",
    "sentences = word2vec.Text8Corpus(\"result.txt\")\n",
    "model = word2vec.Word2Vec(sentences, min_count=1, vector_size=200)\n",
    "model.save(\"my_model.model\")"
   ],
   "metadata": {
    "collapsed": false
   }
  },
  {
   "cell_type": "markdown",
   "source": [
    "## 3.读取保存的模型文件"
   ],
   "metadata": {
    "collapsed": false
   }
  },
  {
   "cell_type": "code",
   "execution_count": 9,
   "outputs": [
    {
     "name": "stderr",
     "output_type": "stream",
     "text": [
      "2023-03-20 14:51:40,137 : INFO : loading Word2Vec object from my_model.model\n",
      "2023-03-20 14:51:40,149 : INFO : loading wv recursively from my_model.model.wv.* with mmap=None\n",
      "2023-03-20 14:51:40,149 : INFO : setting ignored attribute cum_table to None\n",
      "2023-03-20 14:51:40,206 : INFO : Word2Vec lifecycle event {'fname': 'my_model.model', 'datetime': '2023-03-20T14:51:40.206796', 'gensim': '4.3.0', 'python': '3.8.16 (default, Mar  2 2023, 03:18:16) [MSC v.1916 64 bit (AMD64)]', 'platform': 'Windows-10-10.0.22621-SP0', 'event': 'loaded'}\n"
     ]
    }
   ],
   "source": [
    "model_2 = word2vec.Word2Vec.load(\"my_model.model\")"
   ],
   "metadata": {
    "collapsed": false
   }
  },
  {
   "cell_type": "markdown",
   "source": [
    "## 4.输出：“秋雨”的向量"
   ],
   "metadata": {
    "collapsed": false
   }
  },
  {
   "cell_type": "code",
   "execution_count": 10,
   "outputs": [
    {
     "name": "stdout",
     "output_type": "stream",
     "text": [
      "[-0.00019699 -0.01525664 -0.00544756  0.01589671  0.02762173 -0.01976035\n",
      "  0.02191073  0.07053912 -0.01587785  0.00102091  0.00156754 -0.00603007\n",
      "  0.02241345  0.01668857 -0.01211019 -0.02073513 -0.00963482  0.01521658\n",
      " -0.01546223 -0.05507956  0.00649465 -0.01962992 -0.0108421   0.00916005\n",
      "  0.00879236 -0.02255019  0.0073317  -0.02147668 -0.02621424  0.00517545\n",
      "  0.02662977 -0.00034586  0.0255306  -0.01872779 -0.00595741  0.01620557\n",
      "  0.02231165 -0.01866699 -0.01346172 -0.02531746 -0.0147829  -0.00228447\n",
      " -0.01748663  0.01068981  0.03811073 -0.02194946 -0.01627542 -0.0230178\n",
      "  0.02131451  0.02589334  0.02077539 -0.00021713 -0.02416469 -0.02944181\n",
      "  0.00742791 -0.03311317  0.01163418 -0.02014735 -0.03828868  0.02002272\n",
      " -0.01235592 -0.00921937 -0.00793731 -0.00062808 -0.05089124  0.02123314\n",
      "  0.00301713  0.04890329 -0.03395978  0.02934017  0.00453265 -0.00147408\n",
      "  0.03708081 -0.00152298 -0.01183118  0.01793184  0.04130481 -0.00916984\n",
      " -0.06297085 -0.01445791 -0.01302207 -0.01953019 -0.00682535  0.03116028\n",
      " -0.02820054 -0.00264899 -0.00136444  0.01513669 -0.00091396  0.02295257\n",
      "  0.01962042  0.00895604  0.03432639  0.0223935   0.06110779 -0.00326014\n",
      "  0.01332399 -0.00764343  0.0177699   0.01517379 -0.02693287  0.03453989\n",
      "  0.02404061 -0.021509   -0.01499509 -0.03908445  0.0045926   0.04672935\n",
      " -0.00618949 -0.03949512 -0.00913173 -0.03928273 -0.00919171  0.01853084\n",
      "  0.03323564 -0.00725831  0.02864645 -0.03608783 -0.00217422 -0.01067812\n",
      " -0.0150622   0.02142626  0.03694595 -0.02196057 -0.03610567  0.03460583\n",
      " -0.02328339  0.00327055  0.01025753 -0.00307976  0.01599866 -0.01414579\n",
      " -0.02042793 -0.0353319  -0.00472795  0.02004382 -0.00769574 -0.01482907\n",
      " -0.01794842 -0.02341912  0.03693346 -0.03812275 -0.01859378 -0.01303721\n",
      " -0.01991861 -0.00882155 -0.00892199 -0.00164931 -0.00794079 -0.02110009\n",
      "  0.00424295 -0.03338181 -0.02242145  0.0009259  -0.03654059  0.04753561\n",
      "  0.02779559  0.02516168 -0.01546807  0.01059019  0.02425154  0.019288\n",
      " -0.01962467  0.02713863  0.03685408  0.03646088  0.02252713 -0.03192132\n",
      " -0.01187347  0.00728465 -0.01177188  0.0058423   0.0090956  -0.01725566\n",
      "  0.01182333 -0.01039463 -0.03032443  0.02525843  0.01119971  0.01021077\n",
      "  0.00168026  0.01587173 -0.00544128  0.00066822  0.0082859   0.00092548\n",
      " -0.02497797  0.01955399  0.03933824 -0.00702241  0.01893442 -0.01768686\n",
      " -0.00541403 -0.03011931  0.01780832  0.00277154  0.01557271 -0.02276248\n",
      " -0.01190879  0.01397548]\n"
     ]
    }
   ],
   "source": [
    "print(model.wv['秋雨'])"
   ],
   "metadata": {
    "collapsed": false
   }
  },
  {
   "cell_type": "markdown",
   "source": [
    "## 5.计算两个词的相关程度"
   ],
   "metadata": {
    "collapsed": false
   }
  },
  {
   "cell_type": "code",
   "execution_count": 11,
   "outputs": [
    {
     "name": "stderr",
     "output_type": "stream",
     "text": [
      "2023-03-20 14:51:47,505 : INFO : loading Word2Vec object from my_model.model\n",
      "2023-03-20 14:51:47,516 : INFO : loading wv recursively from my_model.model.wv.* with mmap=None\n",
      "2023-03-20 14:51:47,516 : INFO : setting ignored attribute cum_table to None\n",
      "2023-03-20 14:51:47,578 : INFO : Word2Vec lifecycle event {'fname': 'my_model.model', 'datetime': '2023-03-20T14:51:47.578497', 'gensim': '4.3.0', 'python': '3.8.16 (default, Mar  2 2023, 03:18:16) [MSC v.1916 64 bit (AMD64)]', 'platform': 'Windows-10-10.0.22621-SP0', 'event': 'loaded'}\n"
     ]
    },
    {
     "name": "stdout",
     "output_type": "stream",
     "text": [
      "0.9277958\n"
     ]
    }
   ],
   "source": [
    "model = word2vec.Word2Vec.load(\"my_model.model\")\n",
    "y1 = model.wv.similarity(\"秋雨\", \"落叶\")\n",
    "print(y1)"
   ],
   "metadata": {
    "collapsed": false
   }
  },
  {
   "cell_type": "markdown",
   "source": [
    "## 6.输出与“秋雨”相关度最高的20个词"
   ],
   "metadata": {
    "collapsed": false
   }
  },
  {
   "cell_type": "code",
   "execution_count": 12,
   "outputs": [
    {
     "name": "stdout",
     "output_type": "stream",
     "text": [
      "('编用', 0.9352712631225586)\n",
      "('预科班', 0.935040295124054)\n",
      "('征集', 0.9349719285964966)\n",
      "('配合', 0.9343264102935791)\n",
      "('森美', 0.9341440796852112)\n",
      "('观', 0.9336857199668884)\n",
      "('所在', 0.9336254596710205)\n",
      "('接下来', 0.933625340461731)\n",
      "('上市公司', 0.933603048324585)\n",
      "('不俗', 0.9333636164665222)\n",
      "('机', 0.9333564639091492)\n",
      "('21', 0.9332705736160278)\n",
      "('水泥砂浆', 0.9332515001296997)\n",
      "('挥手', 0.9332339763641357)\n",
      "('负温', 0.9331874251365662)\n",
      "('位于', 0.9330872297286987)\n",
      "('锁定', 0.9330846667289734)\n",
      "('顶级', 0.9330658912658691)\n",
      "('采访', 0.9330472946166992)\n",
      "('线条', 0.932976245880127)\n"
     ]
    }
   ],
   "source": [
    "y2 = model.wv.most_similar(\"落叶\", topn=20)\n",
    "for y in y2:\n",
    "    print(y)"
   ],
   "metadata": {
    "collapsed": false
   }
  },
  {
   "cell_type": "markdown",
   "source": [
    "## 7.选择”最不合群“的词"
   ],
   "metadata": {
    "collapsed": false
   }
  },
  {
   "cell_type": "code",
   "execution_count": 13,
   "outputs": [
    {
     "name": "stderr",
     "output_type": "stream",
     "text": [
      "2023-03-20 14:52:19,157 : WARNING : vectors for words {'国庆节', '劳动节', '中秋节'} are not present in the model, ignoring these words\n"
     ]
    },
    {
     "name": "stdout",
     "output_type": "stream",
     "text": [
      "消费者\n"
     ]
    }
   ],
   "source": [
    "y4 = model.wv.doesnt_match(\"劳动节 国庆节 中秋节 消费者\".split(\" \"))\n",
    "print(y4)"
   ],
   "metadata": {
    "collapsed": false
   }
  },
  {
   "cell_type": "markdown",
   "source": [],
   "metadata": {
    "collapsed": false
   }
  }
 ],
 "metadata": {
  "kernelspec": {
   "display_name": "Python 3",
   "language": "python",
   "name": "python3"
  },
  "language_info": {
   "codemirror_mode": {
    "name": "ipython",
    "version": 2
   },
   "file_extension": ".py",
   "mimetype": "text/x-python",
   "name": "python",
   "nbconvert_exporter": "python",
   "pygments_lexer": "ipython2",
   "version": "2.7.6"
  }
 },
 "nbformat": 4,
 "nbformat_minor": 0
}
